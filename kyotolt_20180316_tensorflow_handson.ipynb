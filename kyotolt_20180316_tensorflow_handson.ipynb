{
  "nbformat": 4,
  "nbformat_minor": 0,
  "metadata": {
    "colab": {
      "name": "kyotolt_20180316_tensorflow_handson.ipynb",
      "version": "0.3.2",
      "views": {},
      "default_view": {},
      "provenance": [],
      "collapsed_sections": []
    },
    "kernelspec": {
      "name": "python3",
      "display_name": "Python 3"
    },
    "accelerator": "GPU"
  },
  "cells": [
    {
      "metadata": {
        "id": "AoJaW7K1IngK",
        "colab_type": "text"
      },
      "cell_type": "markdown",
      "source": [
        "# TensorFlow ハンズオン 超入門\n",
        "\n",
        "- Kyoto.LT 第19回 - TensorFlow ハンズオン\n",
        "- 2018/3/16（金）\n",
        "\n",
        "\n",
        "## 諸注意\n",
        "\n",
        "- 初心者対象です\n",
        "- ディープラーニングやCNNはやりません\n",
        "- 各自のドライブにコピーを保存してください（重要）\n",
        "- 資料が1ファイルのmarkdownなので，あまり先読みせずにお願いします\n",
        "\n",
        "## 目次\n",
        "\n",
        "1. 機械学習\n",
        "1. ニューラルネットワーク\n",
        "1. Google Colaboratory を使ってみる\n",
        "1. TensorFlow を使ってみよう\n",
        "1. TensorFlow で NN を実装する\n",
        "\n"
      ]
    },
    {
      "metadata": {
        "id": "Mn-YuLx0JUfO",
        "colab_type": "text"
      },
      "cell_type": "markdown",
      "source": [
        "# 1. 機械学習\n",
        "\n",
        "\n",
        "## 機械学習\n",
        "\n",
        "- 人間が自然に行なっている学習能力と同様の機能をコンピュータで実現する\n",
        "\n",
        "- 既知の情報だけではなく，未知な情報に対しても適切な処理を行う汎用的な処理を行う\n",
        "\n",
        "\n",
        "## 図例（一例）\n",
        "\n",
        "\n",
        "- 赤青の2状態のラベルを持つ特徴量空間があると仮定する（左）\n",
        "- そのラベルを区切る境界線が分かれば、未知な観測値のラベル付けが可能になる（右）\n",
        "\n",
        "![特徴量空間](https://drive.google.com/uc?export=view&id=1-4yNFMFarYTvsZDcLJMyCRBUp1R6S8hh)\n"
      ]
    },
    {
      "metadata": {
        "id": "BkXDTWVMYcnq",
        "colab_type": "text"
      },
      "cell_type": "markdown",
      "source": [
        "## （例題）1状態のモデル推定（線形回帰，最小二乗法）\n",
        "\n",
        "\n",
        "下図（左）のように，黄色い観測値 $(x, y)$ がいくつか得られた．新しい $x'$ を観測した時，それに対応する $y'$ は何になるか？（数学）\n",
        "\n",
        "- 観測値は一次関数（緑色の直線）の相関があるように見える（右）\n",
        "- その一次関数 $f(x)$ を求めて，新しい $x'$ を代入して $y' = f(x')$ を求めよう\n",
        "\n",
        "\n",
        "![特徴量空間](https://drive.google.com/uc?export=view&id=1rmbpCwAkk4ygdyfmHv-_OCo_9kbDvs2Y)\n",
        "\n",
        "\n",
        "入力を$x$，出力を$y$として，パラメータ$\\theta$を用いて，以下のようにモデルを定義する\n",
        "$${y}  = f({x; \\theta} )$$\n",
        "\n",
        "以下の訓練データが与えらえたときの問題を考える（パラメータ$\\theta$を求める）．\n",
        "$$(x_{1},y_{1}), \\ (x_{2},y_{2}), \\ \\dots, \\ (x_{n},y_{n})$$\n",
        "\n",
        "訓練データから理論値の誤差$J$は，以下のように定義できる．\n",
        "$$J= \\sum_{i=0}^{n} \\left(y_{i} - f(x_{i}) \\right)^{2}$$\n",
        "\n",
        "誤差$J$を最小にするパラメータ$\\theta$を求めれば，モデルが求められる．\n",
        "$$\\frac{d J} {d \\theta} = 0$$\n",
        "\n",
        "ここで，モデル関数を一次関数と仮定すると，\n",
        "$$f(x) = ax + b$$\n",
        "\n",
        "パラメータ$a$および$b$は以下のように求められる\n",
        "$$a = \\frac{n \\sum_{i=1}^{n}x_{i}y_{i} - \\sum_{i=1}^{n}x_{i}\\sum_{i=1}^{n}y_{i}}\n",
        "{n\\sum_{i=1}^{n}x_{i}^{2} - \\left( \\sum_{i=1}^{n}x_{i} \\right)^{2}} \n",
        "\\\\\n",
        "b = \\frac{n \\sum_{i=1}^{n}x_{i}^{2}\\sum_{i=1}^{n}y_{i} - \\sum_{i=1}^{n}x_{i}y_{i}\\sum_{i=1}^{n}x_{i}}\n",
        "{n\\sum_{i=1}^{n}x_{i}^{2} - \\left( \\sum_{i=1}^{n}x_{i} \\right)^{2}} $$\n",
        "\n"
      ]
    },
    {
      "metadata": {
        "id": "_9lA0bVyxsYU",
        "colab_type": "text"
      },
      "cell_type": "markdown",
      "source": [
        "## 機械学習の流れ\n",
        "\n",
        "\n",
        "機械学習の大まかなの流れは以下のようになる\n",
        "\n",
        "1. 何かしら処理したい大量のデータがある\n",
        "1. 適切なモデルを仮定する（例では1次関数）\n",
        "1. そのモデルのパラメータを計算する（一般に，パラメータは数値計算法を利用して近似計算を行う）\n",
        "1. 評価が悪ければ2に戻る\n",
        "\n",
        "\n",
        "機械学習は敷居が高いように思われるが，\n",
        "\n",
        "- データからの関数を求める\n",
        "- 関数から状態を分類する\n",
        "\n",
        "やっていることの根底は，中学高校でも習った数学（解析学）であり，みなさんは既に機械学習を経験しているんですよ！\n",
        "\n",
        "\n",
        "※ 確率的手法で解くアプローチもあります（今回やらない）\n",
        "\n"
      ]
    },
    {
      "metadata": {
        "id": "DOX2jM8MW8Uh",
        "colab_type": "text"
      },
      "cell_type": "markdown",
      "source": [
        "# 2. ニューラルネットワーク（NN）\n",
        "\n",
        "脳機能に見られるいくつかの特性を計算機上のシミュレーションによって表現することを目指した数学モデル\n",
        "\n",
        "\n",
        "![ニューロン](https://drive.google.com/uc?export=view&id=1WxYCTE8_l5QvDLG2a3sRNU_DChSWUXFy)\n",
        "\n",
        "\n",
        "入力を$x_{i}$，それぞれの重みを$w_{i}$，バイアス（閾値に相当する）を$b$とすると，出力$y$は以下のように定義される\n",
        "\n",
        "$$y = f \\left(\\sum_{i} w_{i} x_{i} + b \\right) $$\n",
        "\n",
        "\n",
        "ここで，$f$ は活性化関数であり，シグモイド関数，ステップ関数やReLU(ランプ関数)が使われる．\n",
        "\n",
        "\n",
        "![活性化関数](https://drive.google.com/uc?export=view&id=1Mn40ckzBTQfDQn01V2n6rNqqMwY5To-H)\n",
        "\n",
        "\n",
        "## 単純パーセプトロン\n",
        "\n",
        "- 入力層と出力層のみの2層からなる\n",
        "- 単純なネットワークなので，非線形問題は解けない\n",
        "- （以降のNN図ではバイアスや活性化関数の表示は省略してます）\n",
        "\n",
        "\n",
        "![多層パーセプトロン](https://drive.google.com/uc?export=view&id=1t0SRn0N6ga7JqoitTj-xHFIsbgGMufQ8)\n",
        "\n",
        "\n",
        "## 多層パーセプトロン\n",
        "\n",
        "- 3つ以上の層（入力層と出力層と1つ以上の隠れ層）\n",
        "- 一般に層が4つ以上のNNを深層学習（ディープラーニング）と呼ぶ\n",
        "- 非線形問題も解ける\n",
        "\n",
        "![多層パーセプトロン](https://drive.google.com/uc?export=view&id=1OMqbERTTW1hH9UHo-s8GGSS-DPf-_hBC)\n",
        "\n",
        "\n",
        "## 学習\n",
        "\n",
        "- 例題同様に損失関数を定義て，それを最小にするパラメータを求める\n",
        "- 簡単に微分で解けないので，勾配降下法などを用いて数値解析的に解く\n",
        "\n",
        "\n",
        "## NNと機械学習\n",
        "\n",
        "- 計算モデル（前例題でいう一次関数）をNNでモデル化する\n",
        "  - 機械学習の実状は非線形関数の最適化問題\n",
        "- 近年まであまり人気はなかった\n",
        "  - 学習コストが莫大に大きい\n",
        "  - 層を増やせば増やすほど難解になる\n",
        "- いまは，流行りのディープラーニングまで発展した\n",
        "  - GPU並列計算，GCPやAWSなどのクラウドコンピューティング（金の弾丸で殴るスタイル）\n",
        "  - ネットワークの発展で，画像処理などで良い成果をもたらした\n",
        "\n",
        "  \n",
        "  \n",
        "  \n",
        "## 閑話休題\n",
        "\n",
        "\n",
        "- 似たような生物学的な特徴を模倣とした手法に遺伝的アルゴリズムというのものあります\n",
        "- ニューラル！？遺伝！？バイオコンピュータか何かすげー！と思ったり\n",
        "- しかし，実態は非線形関数や確率的手法\n",
        "- 難しい言葉に騙されないようにしましょう（とくに今のAI界隈）\n",
        "\n",
        "\n"
      ]
    },
    {
      "metadata": {
        "id": "Ptfrvph-w6YA",
        "colab_type": "text"
      },
      "cell_type": "markdown",
      "source": [
        "# 3. Google Colaboratoryを使ってみる\n",
        "\n",
        "\n",
        "[Google Colaboratory](https://colab.research.google.com/) とは\n",
        "\n",
        "- Google が公開した Jupyter notebook ライクなサービス\n",
        "- Pythonコードとドキュメント（markdown）を同時に管理できる\n",
        "- マシンリソースはGoogleのクラウドにあるので準備不要\n",
        "- 2018年2月にGPUを利用することができるようになった\n",
        "\n",
        "ただし，\n",
        "\n",
        "- 利用可能時間は12時間\n",
        "- コードやマークダウンは Google Drive に保存される\n",
        "- 計算結果を永続化する場合は，Google Driveなどのストレージサービスをマウントする\n",
        "- 長時間の計算はデータを途中保存と、再計算可能なコードを書く\n",
        "\n",
        "\n"
      ]
    },
    {
      "metadata": {
        "id": "iM0cC7gQQeIe",
        "colab_type": "code",
        "colab": {
          "autoexec": {
            "startup": false,
            "wait_interval": 0
          },
          "output_extras": [
            {}
          ],
          "base_uri": "https://localhost:8080/",
          "height": 34
        },
        "outputId": "19735181-78cc-40a1-baa7-0d894da58732",
        "executionInfo": {
          "status": "ok",
          "timestamp": 1521028614719,
          "user_tz": -540,
          "elapsed": 670,
          "user": {
            "displayName": "江本光晴",
            "photoUrl": "https://lh3.googleusercontent.com/a/default-user=s128",
            "userId": "110288596672336532298"
          }
        }
      },
      "cell_type": "code",
      "source": [
        "import numpy as np\n",
        "\n",
        "values = np.array([33, 44, 54, 23, 25, 55, 32, 76])\n",
        "ave = np.average(values)\n",
        "print(\"ave =\", ave)"
      ],
      "execution_count": 0,
      "outputs": [
        {
          "output_type": "stream",
          "text": [
            "ave = 42.75\n"
          ],
          "name": "stdout"
        }
      ]
    },
    {
      "metadata": {
        "id": "C-fIYQqnZ9O7",
        "colab_type": "text"
      },
      "cell_type": "markdown",
      "source": [
        "Colabでは ``!hogehoge`` でコマンドを実行できる。\n",
        "\n",
        "- 例えばインストールされているTensorflowのバージョン確認してみる。\n",
        "- 資料作成時は 1.6.0rc1 でしたが，前日に 1.6.0 になったようです（つらみ\n",
        "- 先日 [1.7.0rc0](https://github.com/tensorflow/tensorflow/releases/tag/v1.7.0-rc0) がリリースされた"
      ]
    },
    {
      "metadata": {
        "id": "QtWRAUjDxEV_",
        "colab_type": "code",
        "colab": {
          "autoexec": {
            "startup": false,
            "wait_interval": 0
          },
          "output_extras": [
            {}
          ],
          "base_uri": "https://localhost:8080/",
          "height": 35
        },
        "outputId": "0f5b1567-0a12-4309-9ff8-cec7f2ecd86b",
        "executionInfo": {
          "status": "ok",
          "timestamp": 1521079554265,
          "user_tz": -540,
          "elapsed": 2513,
          "user": {
            "displayName": "江本光晴",
            "photoUrl": "https://lh3.googleusercontent.com/a/default-user=s128",
            "userId": "110288596672336532298"
          }
        }
      },
      "cell_type": "code",
      "source": [
        "!pip list | grep tensorflow"
      ],
      "execution_count": 0,
      "outputs": [
        {
          "output_type": "stream",
          "text": [
            "tensorflow                                 1.6.0    \r\n"
          ],
          "name": "stdout"
        }
      ]
    },
    {
      "metadata": {
        "id": "s3Ng7wlhxrjn",
        "colab_type": "text"
      },
      "cell_type": "markdown",
      "source": [
        "GPUを使用する\n",
        "\n",
        "1. ランタイム -> ランタイムのタイプを変更\n",
        "2. ハードウェアアクセラレータでGPUを選択\n"
      ]
    },
    {
      "metadata": {
        "id": "QtZwovyOxu2u",
        "colab_type": "code",
        "colab": {
          "autoexec": {
            "startup": false,
            "wait_interval": 0
          },
          "output_extras": [
            {}
          ],
          "base_uri": "https://localhost:8080/",
          "height": 35
        },
        "outputId": "c835d278-b913-4b77-c45f-1816baded85e",
        "executionInfo": {
          "status": "ok",
          "timestamp": 1519962030355,
          "user_tz": -540,
          "elapsed": 7479,
          "user": {
            "displayName": "江本光晴",
            "photoUrl": "https://lh3.googleusercontent.com/a/default-user=s128",
            "userId": "110288596672336532298"
          }
        }
      },
      "cell_type": "code",
      "source": [
        "import tensorflow as tf\n",
        "tf.test.gpu_device_name()\n",
        "# '/device:GPU:0'"
      ],
      "execution_count": 0,
      "outputs": [
        {
          "output_type": "execute_result",
          "data": {
            "text/plain": [
              "'/device:GPU:0'"
            ]
          },
          "metadata": {
            "tags": []
          },
          "execution_count": 1
        }
      ]
    },
    {
      "metadata": {
        "id": "dQc_p_EK0htB",
        "colab_type": "text"
      },
      "cell_type": "markdown",
      "source": [
        "# 4. TensorFlow を使ってみよう\n",
        "\n",
        "TensorFlow\n",
        "\n",
        "- Googleが2015年11月に公開した機械学習向け計算フレームワーク\n",
        "- これ自体は機械学習ではない\n",
        "- 最適化問題の学習ライブラリが提供されたので，機械学習が一般に広がった\n"
      ]
    },
    {
      "metadata": {
        "id": "_Bvzv-ErOy-Z",
        "colab_type": "text"
      },
      "cell_type": "markdown",
      "source": [
        "## 基礎\n",
        "\n",
        "足し算してみた"
      ]
    },
    {
      "metadata": {
        "id": "yiPi4GpxpvDr",
        "colab_type": "code",
        "colab": {
          "autoexec": {
            "startup": false,
            "wait_interval": 0
          },
          "output_extras": [
            {}
          ],
          "base_uri": "https://localhost:8080/",
          "height": 35
        },
        "outputId": "eed1dca1-31a2-4916-c91a-bc8e8790db4f",
        "executionInfo": {
          "status": "ok",
          "timestamp": 1519974671451,
          "user_tz": -540,
          "elapsed": 585,
          "user": {
            "displayName": "江本光晴",
            "photoUrl": "https://lh3.googleusercontent.com/a/default-user=s128",
            "userId": "110288596672336532298"
          }
        }
      },
      "cell_type": "code",
      "source": [
        "import tensorflow as tf\n",
        "x = tf.constant(1)\n",
        "y = tf.constant(2)\n",
        "z = x + y\n",
        "print(\"z = \", z)"
      ],
      "execution_count": 0,
      "outputs": [
        {
          "output_type": "stream",
          "text": [
            "z =  Tensor(\"add_1:0\", shape=(), dtype=int32)\n"
          ],
          "name": "stdout"
        }
      ]
    },
    {
      "metadata": {
        "id": "kQFZZjw6jVU3",
        "colab_type": "text"
      },
      "cell_type": "markdown",
      "source": [
        "zには計算結果ではなく計算モデルが入っている\n",
        "\n",
        "![tensorflow_add](https://drive.google.com/uc?export=view&id=1e8EUXvD8P0fIzX8hU7t3dpQxLEKdgeHT)\n",
        "\n",
        "- Tensorflowは計算モデルと実行を分けて書く（Define-and-Run）．\n",
        "- 実行する場合は Session を始める"
      ]
    },
    {
      "metadata": {
        "id": "Kq0ZeP33pxB7",
        "colab_type": "code",
        "colab": {
          "autoexec": {
            "startup": false,
            "wait_interval": 0
          },
          "output_extras": [
            {}
          ],
          "base_uri": "https://localhost:8080/",
          "height": 35
        },
        "outputId": "4418e5cd-416e-4f09-f0b5-a0fa4f550d93",
        "executionInfo": {
          "status": "ok",
          "timestamp": 1519974820701,
          "user_tz": -540,
          "elapsed": 670,
          "user": {
            "displayName": "江本光晴",
            "photoUrl": "https://lh3.googleusercontent.com/a/default-user=s128",
            "userId": "110288596672336532298"
          }
        }
      },
      "cell_type": "code",
      "source": [
        "import tensorflow as tf\n",
        "x = tf.constant(1)\n",
        "y = tf.constant(2)\n",
        "z = x + y\n",
        "sess = tf.Session()\n",
        "print(\"z = \", sess.run(z))"
      ],
      "execution_count": 0,
      "outputs": [
        {
          "output_type": "stream",
          "text": [
            "z =  3\n"
          ],
          "name": "stdout"
        }
      ]
    },
    {
      "metadata": {
        "id": "i00XE25PsoOp",
        "colab_type": "text"
      },
      "cell_type": "markdown",
      "source": [
        "みんな大好き Hello World も Session で"
      ]
    },
    {
      "metadata": {
        "id": "vF9YmqQCp3Tg",
        "colab_type": "code",
        "colab": {
          "autoexec": {
            "startup": false,
            "wait_interval": 0
          },
          "output_extras": [
            {}
          ],
          "base_uri": "https://localhost:8080/",
          "height": 34
        },
        "outputId": "30279241-b7f9-4dcd-e1ef-f8880e8d5e3a",
        "executionInfo": {
          "status": "ok",
          "timestamp": 1520767294714,
          "user_tz": -540,
          "elapsed": 702,
          "user": {
            "displayName": "江本光晴",
            "photoUrl": "https://lh3.googleusercontent.com/a/default-user=s128",
            "userId": "110288596672336532298"
          }
        }
      },
      "cell_type": "code",
      "source": [
        "import tensorflow as tf\n",
        "hello = tf.constant('Hello, TensorFlow!')\n",
        "sess = tf.Session()\n",
        "print(sess.run(hello))"
      ],
      "execution_count": 0,
      "outputs": [
        {
          "output_type": "stream",
          "text": [
            "b'Hello, TensorFlow!'\n"
          ],
          "name": "stdout"
        }
      ]
    },
    {
      "metadata": {
        "id": "8hnjNj-x1Pdz",
        "colab_type": "text"
      },
      "cell_type": "markdown",
      "source": [
        "変数\n",
        " - Variable で初期化\n",
        " - assign で代入"
      ]
    },
    {
      "metadata": {
        "id": "gvkt_IIJ0NGW",
        "colab_type": "code",
        "colab": {
          "autoexec": {
            "startup": false,
            "wait_interval": 0
          },
          "output_extras": [
            {}
          ],
          "base_uri": "https://localhost:8080/",
          "height": 68
        },
        "outputId": "8b62005d-d7b2-4945-c95d-7ca442aac1d1",
        "executionInfo": {
          "status": "ok",
          "timestamp": 1520767998011,
          "user_tz": -540,
          "elapsed": 666,
          "user": {
            "displayName": "江本光晴",
            "photoUrl": "https://lh3.googleusercontent.com/a/default-user=s128",
            "userId": "110288596672336532298"
          }
        }
      },
      "cell_type": "code",
      "source": [
        "import tensorflow as tf\n",
        "x = tf.Variable(1)\n",
        "y = tf.constant(2)\n",
        "z = tf.assign(x, x+y)\n",
        "sess = tf.Session()\n",
        "sess.run(tf.global_variables_initializer())\n",
        "for i in range(3):\n",
        "    print(\"z = \", sess.run(z))"
      ],
      "execution_count": 0,
      "outputs": [
        {
          "output_type": "stream",
          "text": [
            "z =  3\n",
            "z =  5\n",
            "z =  7\n"
          ],
          "name": "stdout"
        }
      ]
    },
    {
      "metadata": {
        "id": "yufQf5Ktj3ja",
        "colab_type": "text"
      },
      "cell_type": "markdown",
      "source": [
        "v1.5からEager Execution が追加さて、 Session なしでも実行できるようになりました（Define-by-Run）．\n",
        "\n",
        "- エラーが出たらランタイムの再起動（jupyter系の仕様，多重呼び出しがダメみたい）"
      ]
    },
    {
      "metadata": {
        "id": "hKN153STp_D8",
        "colab_type": "code",
        "colab": {
          "autoexec": {
            "startup": false,
            "wait_interval": 0
          },
          "output_extras": [
            {}
          ],
          "base_uri": "https://localhost:8080/",
          "height": 90
        },
        "outputId": "ad640d9b-1e48-4c1d-b06a-879dd4b96093",
        "executionInfo": {
          "status": "ok",
          "timestamp": 1519975339259,
          "user_tz": -540,
          "elapsed": 4242,
          "user": {
            "displayName": "江本光晴",
            "photoUrl": "https://lh3.googleusercontent.com/a/default-user=s128",
            "userId": "110288596672336532298"
          }
        }
      },
      "cell_type": "code",
      "source": [
        "import tensorflow as tf\n",
        "import tensorflow.contrib.eager as tfe\n",
        "\n",
        "# 1.7.0rc0 だったら未確認\n",
        "#import tensorflow.eager as tfe\n",
        "\n",
        "tfe.enable_eager_execution()\n",
        "\n",
        "x = tf.constant(1)\n",
        "y = tf.constant(2)\n",
        "z = x + y\n",
        "print(\"z = \", z)\n",
        "print(\"z.numpy() = \", z.numpy())\n",
        "\n",
        "hello = tf.constant('Hello, TensorFlow!')\n",
        "print(\"hello = \", hello)\n",
        "print(\"hello.numpy() = \", hello.numpy())"
      ],
      "execution_count": 0,
      "outputs": [
        {
          "output_type": "stream",
          "text": [
            "z =  tf.Tensor(3, shape=(), dtype=int32)\n",
            "z.numpy() =  3\n",
            "hello =  tf.Tensor(b'Hello, TensorFlow!', shape=(), dtype=string)\n",
            "hello =  b'Hello, TensorFlow!'\n"
          ],
          "name": "stdout"
        }
      ]
    },
    {
      "metadata": {
        "id": "BMm5jkT4t4l5",
        "colab_type": "text"
      },
      "cell_type": "markdown",
      "source": [
        "※ 後述のコードはEager Executionを使わずにSessionありで書いています"
      ]
    },
    {
      "metadata": {
        "id": "ZrApmG3FoyR3",
        "colab_type": "text"
      },
      "cell_type": "markdown",
      "source": [
        "## GPU計算\n",
        "\n",
        "- GPUコアを選択して実行する\n",
        "- なお、GPUにすれば全てが早くなるわけではなく、規模が小さい場合はCPUの方が早い\n",
        "\n",
        "補足\n",
        "\n",
        "- GPU用TenforFlowを ```pip install tensorflow-gpu``` でインストールしていれば追加処理は不要\n",
        "- GPUのリソース管理が面倒なので、GPU環境なら最初からGPU用TenforFlowをインストールして使うのが良い\n",
        "- 本ハンズオンは規模が小さく、GPU分のコードが増えるのでCPU計算です"
      ]
    },
    {
      "metadata": {
        "id": "J8VeuakwoxsB",
        "colab_type": "code",
        "colab": {
          "autoexec": {
            "startup": false,
            "wait_interval": 0
          },
          "output_extras": [
            {}
          ],
          "base_uri": "https://localhost:8080/",
          "height": 85
        },
        "outputId": "4a5e5c78-a1bb-4455-8c89-a09f398e6c10",
        "executionInfo": {
          "status": "ok",
          "timestamp": 1521035662363,
          "user_tz": -540,
          "elapsed": 704,
          "user": {
            "displayName": "江本光晴",
            "photoUrl": "https://lh3.googleusercontent.com/a/default-user=s128",
            "userId": "110288596672336532298"
          }
        }
      },
      "cell_type": "code",
      "source": [
        "import tensorflow as tf\n",
        "\n",
        "with tf.device('/cpu:0'):\n",
        "  cx = tf.constant(1)\n",
        "  cy = tf.constant(2)\n",
        "  cz = cx + cy\n",
        "\n",
        "with tf.device('/gpu:0'):\n",
        "  gx = tf.constant(1)\n",
        "  gy = tf.constant(2)\n",
        "  gz = gx + gy\n",
        "\n",
        "config = tf.ConfigProto()\n",
        "config.gpu_options.allow_growth = True\n",
        "\n",
        "sess = tf.Session(config=config)\n",
        "sess.run(tf.global_variables_initializer())\n",
        "  \n",
        "def run_with_timer(models):\n",
        "  import time\n",
        "  start = time.time()\n",
        "  sess.run(models)\n",
        "  print (\"time = {} sec\".format(time.time() - start))\n",
        "  \n",
        "print(\"cpu:\")\n",
        "run_with_timer(cz)  \n",
        "\n",
        "print(\"gpu:\")\n",
        "run_with_timer(gz)\n",
        "\n",
        "sess.close()"
      ],
      "execution_count": 0,
      "outputs": [
        {
          "output_type": "stream",
          "text": [
            "cpu:\n",
            "time = 0.0064198970794677734 sec\n",
            "gpu:\n",
            "time = 0.0058977603912353516 sec\n"
          ],
          "name": "stdout"
        }
      ]
    },
    {
      "metadata": {
        "id": "u04gjroQryyg",
        "colab_type": "text"
      },
      "cell_type": "markdown",
      "source": [
        "## （例題）TensorFlowを使って，線形回帰（最小二乗法）を解く\n",
        "\n",
        "- 上記で例に出した線形回帰問題を学習して解いてみましょう\n",
        "- パラメータ $a$ および $b$ を，数値計算を使って求める（上式に代入しないで求める）\n"
      ]
    },
    {
      "metadata": {
        "id": "xCEdmrG4u-79",
        "colab_type": "text"
      },
      "cell_type": "markdown",
      "source": [
        "### データ用意（生成）\n",
        "\n",
        "- 正解を $y = 0.1 x + 0.3$ として，$x$ を乱数生成してデータを作成します\n",
        "- 以降の計算で $a=0.1, b = 0.3$ を近似計算する\n"
      ]
    },
    {
      "metadata": {
        "id": "wtUGCyWzvOuB",
        "colab_type": "code",
        "colab": {
          "autoexec": {
            "startup": false,
            "wait_interval": 0
          }
        }
      },
      "cell_type": "code",
      "source": [
        "import tensorflow as tf\n",
        "import numpy as np\n",
        "tf.set_random_seed(0)\n",
        "\n",
        "# 正解を y = x * 0.1 + 0.3 としてデータを100個作成する．\n",
        "# 通常は何かしらの状態から観測される値だが，\n",
        "# 今回は演習のため，自ら生成する\n",
        "X = np.random.rand(100, 1)\n",
        "Y = X * 0.1 + 0.3\n",
        "\n",
        "\"\"\"\n",
        "X:\n",
        "array([[ 0.65418626],\n",
        "       [ 0.35404123],\n",
        "       ...\n",
        "       [ 0.33835396]])       \n",
        "\"\"\""
      ],
      "execution_count": 0,
      "outputs": []
    },
    {
      "metadata": {
        "id": "X0CDzzGjvWVC",
        "colab_type": "text"
      },
      "cell_type": "markdown",
      "source": [
        "### 計算モデルの作成\n",
        "\n",
        "- $y = ax + b$ の計算モデル\n",
        "- 入力データは placeholder で宣言して，実行時に値を代入する\n",
        "- shape の None は，学習時に可変長個のデータ（例だと100個）を使うから，決め打ちしない"
      ]
    },
    {
      "metadata": {
        "id": "Fx0WM5NDvbjQ",
        "colab_type": "code",
        "colab": {
          "autoexec": {
            "startup": false,
            "wait_interval": 0
          }
        }
      },
      "cell_type": "code",
      "source": [
        "# 入力データ\n",
        "x = tf.placeholder(tf.float32, shape=[None, 1])\n",
        "\n",
        "# 出力層\n",
        "a = tf.Variable(tf.zeros([1]))\n",
        "b = tf.Variable(tf.zeros([1]))\n",
        "y = x * a + b"
      ],
      "execution_count": 0,
      "outputs": []
    },
    {
      "metadata": {
        "id": "8WseZN3fvoTS",
        "colab_type": "text"
      },
      "cell_type": "markdown",
      "source": [
        "### 学習\n",
        "\n",
        "\n",
        "- 観測値 $t$ と理論値 $y$ の二乗誤差を最小にするように学習する\n",
        "\n"
      ]
    },
    {
      "metadata": {
        "id": "_9VEcpg8vxbH",
        "colab_type": "code",
        "colab": {
          "autoexec": {
            "startup": false,
            "wait_interval": 0
          }
        }
      },
      "cell_type": "code",
      "source": [
        "# 観測された出力（上記で乱数生成されたyにあたる）\n",
        "t = tf.placeholder(tf.float32, shape=[None, 1])\n",
        "\n",
        "# 損失関数\n",
        "loss = tf.reduce_mean(tf.square(y - t))\n",
        "\n",
        "# 損失関数を最小にするように学習\n",
        "train_step = tf.train.GradientDescentOptimizer(0.1).minimize(loss)\n",
        "\n",
        "# 200回学習してみる\n",
        "for epoch in range(200):\n",
        "    sess.run(train_step, feed_dict={\n",
        "        x: X,\n",
        "        t: Y\n",
        "    })"
      ],
      "execution_count": 0,
      "outputs": []
    },
    {
      "metadata": {
        "id": "v8xvCGXLvw_c",
        "colab_type": "text"
      },
      "cell_type": "markdown",
      "source": [
        "### まとめると\n"
      ]
    },
    {
      "metadata": {
        "id": "Tz_B7A4Tr8c9",
        "colab_type": "code",
        "colab": {
          "autoexec": {
            "startup": false,
            "wait_interval": 0
          },
          "output_extras": [
            {}
          ],
          "base_uri": "https://localhost:8080/",
          "height": 201
        },
        "cellView": "code",
        "outputId": "865a9dd3-73b6-47b9-9815-27ec88ee797b",
        "executionInfo": {
          "status": "ok",
          "timestamp": 1521077831445,
          "user_tz": -540,
          "elapsed": 8844,
          "user": {
            "displayName": "江本光晴",
            "photoUrl": "https://lh3.googleusercontent.com/a/default-user=s128",
            "userId": "110288596672336532298"
          }
        }
      },
      "cell_type": "code",
      "source": [
        "import tensorflow as tf\n",
        "import numpy as np\n",
        "\n",
        "tf.set_random_seed(0)\n",
        "\n",
        "# 正解を y = x * 0.1 + 0.3 としてデータを作成\n",
        "X = np.random.rand(100, 1)\n",
        "Y = X * 0.1 + 0.3\n",
        "\n",
        "# 入力データ\n",
        "x = tf.placeholder(tf.float32, shape=[None, 1])\n",
        "t = tf.placeholder(tf.float32, shape=[None, 1])\n",
        "  \n",
        "# 出力層\n",
        "a = tf.Variable(tf.zeros([1]))\n",
        "b = tf.Variable(tf.zeros([1]))\n",
        "y = x * a + b\n",
        "  \n",
        "# 損失関数\n",
        "loss = tf.reduce_mean(tf.square(y - t))\n",
        "  \n",
        "# 損失関数を最小にするように学習\n",
        "train_step = tf.train.GradientDescentOptimizer(0.1).minimize(loss)\n",
        "\n",
        "# 初期化\n",
        "sess = tf.Session()\n",
        "sess.run(tf.global_variables_initializer())\n",
        "\n",
        "# 学習\n",
        "for epoch in range(200):\n",
        "    sess.run(train_step, feed_dict={\n",
        "        x: X,\n",
        "        t: Y\n",
        "    })\n",
        "    if epoch % 20 == 0:\n",
        "        print(\"epoch={}, a={}, b={}\".format(epoch, sess.run(a), sess.run(b)))"
      ],
      "execution_count": 0,
      "outputs": [
        {
          "output_type": "stream",
          "text": [
            "epoch=0, a=[0.0374866], b=[0.07021491]\n",
            "epoch=20, a=[0.13718347], b=[0.27900204]\n",
            "epoch=40, a=[0.12902495], b=[0.28416792]\n",
            "epoch=60, a=[0.12247529], b=[0.28774205]\n",
            "epoch=80, a=[0.1174031], b=[0.2905084]\n",
            "epoch=100, a=[0.11347559], b=[0.29265046]\n",
            "epoch=120, a=[0.11043443], b=[0.2943091]\n",
            "epoch=140, a=[0.1080796], b=[0.2955934]\n",
            "epoch=160, a=[0.10625621], b=[0.29658788]\n",
            "epoch=180, a=[0.10484432], b=[0.29735795]\n"
          ],
          "name": "stdout"
        }
      ]
    },
    {
      "metadata": {
        "id": "RhL737dTbgJs",
        "colab_type": "text"
      },
      "cell_type": "markdown",
      "source": [
        "## 問題(1)\n",
        "\n",
        "\n",
        "- 例題と同様で、関数を $ y = 0.5 x^{2} + 0.3 $ にして、パラメータ$a, b$ を近似計算せよ\n",
        "- 早く解けた人は、関数を他に変えて試してみてください\n",
        "\n",
        "ヒント\n",
        "\n",
        "- numpyで要素ごとの積は ```x * x``` で計算できます\n",
        "- 損失関数は同じので大丈夫です\n",
        "- 学習回数を増やしてみる\n"
      ]
    },
    {
      "metadata": {
        "id": "dIGwW9Y0bujy",
        "colab_type": "code",
        "colab": {
          "autoexec": {
            "startup": false,
            "wait_interval": 0
          }
        }
      },
      "cell_type": "code",
      "source": [
        "\"\"\" 問題(1)の解答欄 \"\"\""
      ],
      "execution_count": 0,
      "outputs": []
    },
    {
      "metadata": {
        "id": "niW6zBVbJ2Jr",
        "colab_type": "text"
      },
      "cell_type": "markdown",
      "source": [
        "# 5. TensorFlow で NN を実装する\n",
        "\n",
        "- 上記例題の計算モデルおよび損失関数を適切なものに入れ替えば，計算できます"
      ]
    },
    {
      "metadata": {
        "id": "muCXD0t9UZlO",
        "colab_type": "text"
      },
      "cell_type": "markdown",
      "source": [
        "## ネットワーク\n",
        "\n",
        "- 基本的なNNをモデル化してみる\n"
      ]
    },
    {
      "metadata": {
        "id": "jRaNOEL-p-FF",
        "colab_type": "text"
      },
      "cell_type": "markdown",
      "source": [
        "### 単純パーセプトロン\n",
        "\n",
        "![tensorflow_add](https://drive.google.com/uc?export=view&id=1aV4Igyngsmfxz9H19jVtvKFdEEvMEBhH)\n",
        "\n",
        "\n",
        "$ y = f \\left( \\boldsymbol{w} \\boldsymbol{x} + b \\right) $\n",
        "\n"
      ]
    },
    {
      "metadata": {
        "id": "Z2nWt9YlJqcr",
        "colab_type": "code",
        "colab": {
          "autoexec": {
            "startup": false,
            "wait_interval": 0
          }
        }
      },
      "cell_type": "code",
      "source": [
        "import tensorflow as tf\n",
        "\n",
        "# 入力データ\n",
        "x = tf.placeholder(tf.float32, shape=[None, 2])\n",
        "\n",
        "# 出力層\n",
        "W = tf.Variable(tf.zeros([2,1]))\n",
        "b = tf.Variable(tf.zeros([1]))\n",
        "y = tf.nn.sigmoid(tf.matmul(x, W) + b)"
      ],
      "execution_count": 0,
      "outputs": []
    },
    {
      "metadata": {
        "id": "1aWyQYtxNeUO",
        "colab_type": "text"
      },
      "cell_type": "markdown",
      "source": [
        "### 多層パーセプトロン\n",
        "\n",
        "\n",
        "![tensorflow_add](https://drive.google.com/uc?export=view&id=19BJ6k6KqYclDpU8qbmMbtcd-R0dTvBdA)\n",
        "\n",
        "$ \\boldsymbol{h} = f \\left( \\boldsymbol{W} \\boldsymbol{x} + \\boldsymbol{b} \\right)$\n",
        "\n",
        "$ y = f \\left( \\boldsymbol{v} \\boldsymbol{h} + c \\right)$"
      ]
    },
    {
      "metadata": {
        "id": "O8EVbcITMy89",
        "colab_type": "code",
        "colab": {
          "autoexec": {
            "startup": false,
            "wait_interval": 0
          }
        }
      },
      "cell_type": "code",
      "source": [
        "import tensorflow as tf\n",
        "\n",
        "# 入力データ\n",
        "x = tf.placeholder(tf.float32, shape=[None, 2])\n",
        "t = tf.placeholder(tf.float32, shape=[None, 1])\n",
        "\n",
        "# 隠れ層\n",
        "W = tf.Variable(tf.truncated_normal([2,2]))\n",
        "b = tf.Variable(tf.zeros([2]))\n",
        "h = tf.nn.sigmoid(tf.matmul(x,W) + b)\n",
        "\n",
        "# 出力層\n",
        "V = tf.Variable(tf.truncated_normal([2,1]))\n",
        "c = tf.Variable(tf.zeros([1]))\n",
        "y = tf.nn.sigmoid(tf.matmul(h,V) + c)"
      ],
      "execution_count": 0,
      "outputs": []
    },
    {
      "metadata": {
        "id": "U4liGs1eBHXb",
        "colab_type": "text"
      },
      "cell_type": "markdown",
      "source": [
        "### （例題） 論理回路 AND をNNで表現する\n",
        "\n",
        "![tensorflow_add](https://drive.google.com/uc?export=view&id=1prNgn6eORFKYOX3BlE8Gn6GGtt8ieBR_)\n",
        "\n",
        "\n",
        "|$x_1$|$x_2$|$y$|\n",
        "|---|---|---|\n",
        "|0|0|0|\n",
        "|0|1|0|\n",
        "|1|0|0|\n",
        "|1|1|1|\n",
        "\n",
        "\n",
        "入力を$x_{i}$，それぞれの重みを$w_{i}$，バイアス（閾値に相当する）を$b$とすると，出力$y$は以下のように定義される．\n",
        "\n",
        "$$y = f \\left(\\sum_{i=0}^{n} w_{i} x_{i} + b \\right) $$\n",
        "\n",
        "活性化関数 $f$ にシグモイド関数を用いる．2状態の分類問題なので損失関数は，訓練データの入力 $(x_{0}^{k}, x_{1}^{k})$ に対する出力を $t^{k}$ とすると，以下のようになる．\n",
        "\n",
        "$$L = - \\sum_{k}\\left(　t^{k}\\log y^{k} + (1-t^{k}) \\log(1-y^{k})　 \\right)$$\n",
        "\n",
        "学習は，損失関数に対して学習率を $0.1$ とした勾配降下方を用いて，パラメータを求めていく．"
      ]
    },
    {
      "metadata": {
        "id": "H34J96-5r2ED",
        "colab_type": "code",
        "colab": {
          "autoexec": {
            "startup": false,
            "wait_interval": 0
          },
          "output_extras": [
            {}
          ],
          "base_uri": "https://localhost:8080/",
          "height": 85
        },
        "outputId": "6b82fbe1-31fd-41dc-8181-0555d9449587",
        "executionInfo": {
          "status": "ok",
          "timestamp": 1520767126228,
          "user_tz": -540,
          "elapsed": 8594,
          "user": {
            "displayName": "江本光晴",
            "photoUrl": "https://lh3.googleusercontent.com/a/default-user=s128",
            "userId": "110288596672336532298"
          }
        }
      },
      "cell_type": "code",
      "source": [
        "import numpy as np\n",
        "import tensorflow as tf\n",
        "\n",
        "tf.set_random_seed(0)\n",
        "\n",
        "# 入力データ\n",
        "x = tf.placeholder(tf.float32, shape=[None, 2])\n",
        "t = tf.placeholder(tf.float32, shape=[None, 1])\n",
        "\n",
        "# 出力層\n",
        "W = tf.Variable(tf.zeros([2,1]))\n",
        "b = tf.Variable(tf.zeros([1]))\n",
        "y = tf.nn.sigmoid(tf.matmul(x, W) + b)\n",
        "\n",
        "# 損失関数\n",
        "loss = - tf.reduce_sum(t * tf.log(y) + (1-t) * tf.log(1-y))\n",
        "\n",
        "# 損失関数を最小にするように学習\n",
        "train_step = tf.train.GradientDescentOptimizer(0.1).minimize(loss)\n",
        "\n",
        "# AND\n",
        "X = np.array([[0, 0], [0, 1], [1, 0], [1, 1]])\n",
        "Y = np.array([[0], [0], [0], [1]])\n",
        "\n",
        "# 初期化\n",
        "init = tf.global_variables_initializer()\n",
        "sess = tf.Session()\n",
        "sess.run(init)\n",
        "\n",
        "# 学習\n",
        "for epoch in range(200):\n",
        "    sess.run(train_step, feed_dict={\n",
        "        x: X,\n",
        "        t: Y\n",
        "    })\n",
        "\n",
        "# 学習結果の評価\n",
        "correct_prediction = tf.equal(tf.to_float(tf.greater(y, 0.5)), t)\n",
        "classfied = correct_prediction.eval(session=sess, feed_dict={\n",
        "    x: X,\n",
        "    t: Y\n",
        "})\n",
        "prob = y.eval(session=sess, feed_dict={\n",
        "    x: X\n",
        "})\n",
        "\n",
        "\n",
        "# 結果表示\n",
        "for (x, p, c) in zip(X, prob, classfied):\n",
        "  print(\"x = {}, prob = {}, result = {}\".format(x, p, c))\n"
      ],
      "execution_count": 0,
      "outputs": [
        {
          "output_type": "stream",
          "text": [
            "x = [0 0], prob = [0.01376848], result = [ True]\n",
            "x = [0 1], prob = [0.17122266], result = [ True]\n",
            "x = [1 0], prob = [0.17122266], result = [ True]\n",
            "x = [1 1], prob = [0.75353134], result = [ True]\n"
          ],
          "name": "stdout"
        }
      ]
    },
    {
      "metadata": {
        "id": "4DdXvjJoOUl6",
        "colab_type": "text"
      },
      "cell_type": "markdown",
      "source": [
        "## 問題(2) ORをNNで実装せよ\n",
        "\n",
        "![or](https://drive.google.com/uc?export=view&id=1Vks7BI0k9bdltDCtBVPRP4NO3jFKQ7P4)\n",
        "\n",
        "|$x_1$|$x_2$|$y$|\n",
        "|---|---|---|\n",
        "|0|0|0|\n",
        "|0|1|1|\n",
        "|1|0|1|\n",
        "|1|1|1|\n",
        "\n",
        "\n",
        "## 問題(3) ORをNNで実装せよ\n",
        "\n",
        "![xor](https://drive.google.com/uc?export=view&id=1dZXwvsgjaers2eDX4fhk3evMk_IYgY5i)\n",
        "\n",
        "\n",
        "|$x_1$|$x_2$|$y$|\n",
        "|---|---|---|\n",
        "|0|0|0|\n",
        "|0|1|1|\n",
        "|1|0|1|\n",
        "|1|1|0|\n",
        "\n",
        "\n",
        "\n",
        "ヒント\n",
        "\n",
        "- 損失関数はANDの損失関数がそのまま使えます\n",
        "- うまく学習されない場合は、学習回数を増やしてみてください\n"
      ]
    },
    {
      "metadata": {
        "id": "angqPweh9Ofb",
        "colab_type": "code",
        "colab": {
          "autoexec": {
            "startup": false,
            "wait_interval": 0
          }
        }
      },
      "cell_type": "code",
      "source": [
        "\"\"\" 問題(2) OR の解答欄 \"\"\""
      ],
      "execution_count": 0,
      "outputs": []
    },
    {
      "metadata": {
        "id": "nzt1Oe74VetE",
        "colab_type": "code",
        "colab": {
          "autoexec": {
            "startup": false,
            "wait_interval": 0
          }
        }
      },
      "cell_type": "code",
      "source": [
        "\"\"\" 問題(3) XOR の解答欄 \"\"\""
      ],
      "execution_count": 0,
      "outputs": []
    }
  ]
}